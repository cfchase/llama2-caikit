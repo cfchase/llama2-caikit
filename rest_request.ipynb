{
 "cells": [
  {
   "cell_type": "markdown",
   "id": "f73046ff",
   "metadata": {},
   "source": [
    "# GRPC Inference"
   ]
  },
  {
   "cell_type": "markdown",
   "id": "443e7e73-24cb-4f03-9491-a6edcc24f0cc",
   "metadata": {
    "tags": []
   },
   "source": [
    "### Setup"
   ]
  },
  {
   "cell_type": "code",
   "execution_count": null,
   "outputs": [],
   "source": [
    "!curl -kL -H 'Content-Type: application/json' -d '{\"model_id\": \"Llama-2-7b-hf-caikit\", \"inputs\": \"At what temperature does Nitrogen boil?\"}' https://flan-t5-small-caikit-predictor-kserve-test.apps.aisrhods-wx.8goc.p1.openshiftapps.com/api/v1/task/server-streaming-text-generation\n"
   ],
   "metadata": {
    "collapsed": false
   },
   "id": "72f6b09b-c12d-4bd0-9786-d8a99c648038"
  },
  {
   "cell_type": "code",
   "execution_count": null,
   "id": "c0878cfb-dcd8-4edb-8cc0-dac3ef3589da",
   "metadata": {},
   "outputs": [],
   "source": []
  }
 ],
 "metadata": {
  "kernelspec": {
   "display_name": "Python 3.9",
   "language": "python",
   "name": "python3"
  },
  "language_info": {
   "codemirror_mode": {
    "name": "ipython",
    "version": 3
   },
   "file_extension": ".py",
   "mimetype": "text/x-python",
   "name": "python",
   "nbconvert_exporter": "python",
   "pygments_lexer": "ipython3",
   "version": "3.9.18"
  }
 },
 "nbformat": 4,
 "nbformat_minor": 5
}
